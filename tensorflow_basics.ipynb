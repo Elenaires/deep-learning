{
  "nbformat": 4,
  "nbformat_minor": 0,
  "metadata": {
    "colab": {
      "name": "tensorflow_basics.ipynb",
      "version": "0.3.2",
      "provenance": [],
      "collapsed_sections": []
    },
    "kernelspec": {
      "name": "python3",
      "display_name": "Python 3"
    },
    "accelerator": "GPU"
  },
  "cells": [
    {
      "cell_type": "markdown",
      "metadata": {
        "id": "view-in-github",
        "colab_type": "text"
      },
      "source": [
        "[View in Colaboratory](https://colab.research.google.com/github/margaretmz/deep-learning/blob/master/tensorflow_basics.ipynb)"
      ]
    },
    {
      "metadata": {
        "id": "n3xq7WWDpWAL",
        "colab_type": "text"
      },
      "cell_type": "markdown",
      "source": [
        "# Intro to TensorFlow\n",
        "A brief intro to TensorFlow basics and low level API\n",
        "\n",
        "Margaret Maynard-Reid, 6/12/2018\n",
        "\n"
      ]
    },
    {
      "metadata": {
        "id": "dR0aMtaCXWm4",
        "colab_type": "toc"
      },
      "cell_type": "markdown",
      "source": [
        ">[Intro to TensorFlow](#scrollTo=n3xq7WWDpWAL)\n",
        "\n",
        ">>[TensorFlow basics](#scrollTo=9Tn30IjOuGlS)\n",
        "\n",
        ">>>[tf.constant](#scrollTo=DzwxAlIIMpwC)\n",
        "\n",
        ">>>[tf.placeholder](#scrollTo=jzqCrrLbMtYL)\n",
        "\n",
        ">>>[tf.matmul](#scrollTo=LtLEpuCjMxlY)\n",
        "\n",
        ">>[Tensor shapes](#scrollTo=nSXMrfa2LWXR)\n",
        "\n",
        ">>[Numpy vs. Graph Execution vs. Eager Execution](#scrollTo=IoVjopDMUh20)\n",
        "\n",
        ">>>[Numpy example](#scrollTo=P1-h74q6TOco)\n",
        "\n",
        ">>>[Graph Execution](#scrollTo=TkoB7-iFNPbY)\n",
        "\n",
        ">>>[Eager Execution](#scrollTo=BjiF22vwNiR6)\n",
        "\n"
      ]
    },
    {
      "metadata": {
        "id": "9Tn30IjOuGlS",
        "colab_type": "text"
      },
      "cell_type": "markdown",
      "source": [
        "## TensorFlow basics\n",
        "\n",
        "*   tf.constant - the value of the tensor never changes\n",
        "*   tf.placeholder - returns a tensor that gets values from data passed to tf.session.run(), for example, training dataset\n",
        "*   tf.variable - a tensor with an initial value that can be modified, example: weights and biases"
      ]
    },
    {
      "metadata": {
        "id": "Y6tOUAzeMJN5",
        "colab_type": "code",
        "colab": {}
      },
      "cell_type": "code",
      "source": [
        "import tensorflow as tf"
      ],
      "execution_count": 0,
      "outputs": []
    },
    {
      "metadata": {
        "id": "DzwxAlIIMpwC",
        "colab_type": "text"
      },
      "cell_type": "markdown",
      "source": [
        "### tf.constant"
      ]
    },
    {
      "metadata": {
        "id": "Ap4mJPgYpCpH",
        "colab_type": "code",
        "colab": {
          "base_uri": "https://localhost:8080/",
          "height": 35
        },
        "outputId": "f530823b-4f2a-44c2-9407-b8ee4bd50405"
      },
      "cell_type": "code",
      "source": [
        "# Create TensorFlow object called hello_constant\n",
        "hello_constant = tf.constant('Hello TensorFlow!')\n",
        "\n",
        "with tf.Session() as sess:\n",
        "    # Run the tf.constant operation in the session\n",
        "    output = sess.run(hello_constant)\n",
        "    print(output)"
      ],
      "execution_count": 3,
      "outputs": [
        {
          "output_type": "stream",
          "text": [
            "b'Hello TensorFlow!'\n"
          ],
          "name": "stdout"
        }
      ]
    },
    {
      "metadata": {
        "id": "jzqCrrLbMtYL",
        "colab_type": "text"
      },
      "cell_type": "markdown",
      "source": [
        "### tf.placeholder"
      ]
    },
    {
      "metadata": {
        "id": "LLdCSbsZs1kU",
        "colab_type": "code",
        "colab": {
          "base_uri": "https://localhost:8080/",
          "height": 35
        },
        "outputId": "1bdbcbe5-0f7b-45a6-9a95-e6a5a0ea44da"
      },
      "cell_type": "code",
      "source": [
        "x = tf.placeholder(tf.string)\n",
        "\n",
        "with tf.Session() as sess:\n",
        "    output = sess.run(x, feed_dict={x: 'Hello TensorFlow'})\n",
        "    print(output)"
      ],
      "execution_count": 4,
      "outputs": [
        {
          "output_type": "stream",
          "text": [
            "Hello TensorFlow\n"
          ],
          "name": "stdout"
        }
      ]
    },
    {
      "metadata": {
        "id": "LtLEpuCjMxlY",
        "colab_type": "text"
      },
      "cell_type": "markdown",
      "source": [
        "### tf.matmul"
      ]
    },
    {
      "metadata": {
        "id": "MwKAVcce7Tbt",
        "colab_type": "code",
        "colab": {
          "base_uri": "https://localhost:8080/",
          "height": 69
        },
        "outputId": "a786f257-06f4-460d-8921-32ec8aef17ac"
      },
      "cell_type": "code",
      "source": [
        "with tf.Graph().as_default():\n",
        "  # Create a matrix (2-d tensor) with 3 rows and 4 columns.\n",
        "  x = tf.constant([[1, 2, 3, 4], [5, 6, 7, 8], [9, 10, 11, 12]],\n",
        "                  dtype=tf.int32)\n",
        "\n",
        "  # Create a matrix with 4 rows and 2 columns.\n",
        "  y = tf.constant([[2, 2], [3, 5], [4, 5], [1, 6]], dtype=tf.int32)\n",
        "\n",
        "  # Multiply `x` by `y`\n",
        "  # Make sure the number of columns in x matches the number of rows in y\n",
        "  # The resulting matrix will have 3 rows and 2 columns\n",
        "  matrix_multiply_result = tf.matmul(x, y)\n",
        "  \n",
        "  with tf.Session() as sess:\n",
        "    print(matrix_multiply_result.eval())"
      ],
      "execution_count": 7,
      "outputs": [
        {
          "output_type": "stream",
          "text": [
            "[[ 24  51]\n",
            " [ 64 123]\n",
            " [104 195]]\n"
          ],
          "name": "stdout"
        }
      ]
    },
    {
      "metadata": {
        "id": "nSXMrfa2LWXR",
        "colab_type": "text"
      },
      "cell_type": "markdown",
      "source": [
        "## Tensor shapes"
      ]
    },
    {
      "metadata": {
        "id": "Y22iAdfO8QMi",
        "colab_type": "code",
        "colab": {
          "base_uri": "https://localhost:8080/",
          "height": 155
        },
        "outputId": "f5406f61-64af-431d-eb4d-2d90d8176ab4"
      },
      "cell_type": "code",
      "source": [
        "with tf.Graph().as_default():\n",
        "  # A scalar (0-D tensor) of 1\n",
        "  scalar = tf.ones([])\n",
        "\n",
        "  # A vector with 3 elements of 1's\n",
        "  vector = tf.ones([3])\n",
        "\n",
        "  # A matrix with 3 rows and 3 columns of 1's\n",
        "  matrix = tf.ones([3, 3])\n",
        "\n",
        "  with tf.Session() as sess:\n",
        "    print('scalar shape', scalar.get_shape(), 'and value:\\n', scalar.eval())\n",
        "    print('vector shape', vector.get_shape(), 'and value:\\n', vector.eval())\n",
        "    print('matrix shape', matrix.get_shape(), 'and value:\\n', matrix.eval())"
      ],
      "execution_count": 14,
      "outputs": [
        {
          "output_type": "stream",
          "text": [
            "scalar shape () and value:\n",
            " 1.0\n",
            "vector shape (3,) and value:\n",
            " [1. 1. 1.]\n",
            "matrix shape (3, 3) and value:\n",
            " [[1. 1. 1.]\n",
            " [1. 1. 1.]\n",
            " [1. 1. 1.]]\n"
          ],
          "name": "stdout"
        }
      ]
    },
    {
      "metadata": {
        "id": "IoVjopDMUh20",
        "colab_type": "text"
      },
      "cell_type": "markdown",
      "source": [
        "## Numpy vs. Graph Execution vs. Eager Execution"
      ]
    },
    {
      "metadata": {
        "id": "P1-h74q6TOco",
        "colab_type": "text"
      },
      "cell_type": "markdown",
      "source": [
        "### Numpy example"
      ]
    },
    {
      "metadata": {
        "id": "SYq72pjOqPJ-",
        "colab_type": "code",
        "colab": {
          "base_uri": "https://localhost:8080/",
          "height": 35
        },
        "outputId": "1bbae950-77f5-45bf-97a1-1066288763b4"
      },
      "cell_type": "code",
      "source": [
        "import numpy as np\n",
        "a = np.array([1, 2])\n",
        "b = np.array ([3, 4])\n",
        "c = np.add (a, b)\n",
        "print (c)"
      ],
      "execution_count": 4,
      "outputs": [
        {
          "output_type": "stream",
          "text": [
            "[4 6]\n"
          ],
          "name": "stdout"
        }
      ]
    },
    {
      "metadata": {
        "id": "TkoB7-iFNPbY",
        "colab_type": "text"
      },
      "cell_type": "markdown",
      "source": [
        "### Graph Execution\n",
        "In TensorFlow graph execution (default), you must first create a session and run the session to build the graph"
      ]
    },
    {
      "metadata": {
        "id": "r-trOdTVsjh0",
        "colab_type": "code",
        "colab": {
          "base_uri": "https://localhost:8080/",
          "height": 52
        },
        "outputId": "8eafcb23-3436-4153-f2ff-539945a289ff"
      },
      "cell_type": "code",
      "source": [
        "# Example in TensorFLow\n",
        "a = tf.constant([1,2])\n",
        "b = tf.constant([3,4])\n",
        "c = tf.add(a, b)\n",
        "print (\"What's in c before running Session.run() - \", c)\n",
        "\n",
        "with tf.Session() as sess:\n",
        "  result = sess.run(c)\n",
        "  print (\"What's in c after running Session.run() - \", result)"
      ],
      "execution_count": 3,
      "outputs": [
        {
          "output_type": "stream",
          "text": [
            "What's in c before running Session.run() -  Tensor(\"Add:0\", shape=(2,), dtype=int32)\n",
            "What's in c after running Session.run() -  [4 6]\n"
          ],
          "name": "stdout"
        }
      ]
    },
    {
      "metadata": {
        "id": "BjiF22vwNiR6",
        "colab_type": "text"
      },
      "cell_type": "markdown",
      "source": [
        "### Eager Execution\n",
        "Note: \n",
        "\n",
        "Please click on \"Runtime/restart runtime\" or create a **new **notebook and enable eager execution there before running the code below. \n",
        "\n",
        "Eager Execution is only available in TensorFlow 1.8+.  Be sure to have ***!pip install -q --upgrade tensorflow*** at the beginning of your program"
      ]
    },
    {
      "metadata": {
        "id": "BF8IcEiULeyL",
        "colab_type": "code",
        "colab": {}
      },
      "cell_type": "code",
      "source": [
        "import tensorflow as tf\n",
        "# Enable eager execution\n",
        "tf.enable_eager_execution()"
      ],
      "execution_count": 0,
      "outputs": []
    },
    {
      "metadata": {
        "id": "yQurOjog5nT1",
        "colab_type": "code",
        "colab": {
          "base_uri": "https://localhost:8080/",
          "height": 35
        },
        "outputId": "afcb1c28-26e9-4b70-904f-c56a601e9c44"
      },
      "cell_type": "code",
      "source": [
        "# Notice the code here is very similar to the Numpy example above, no need to create a Tensorflow session in order to see what's in c\n",
        "a = tf.constant([1,2])\n",
        "b = tf.constant([3,4])\n",
        "c = tf.add(a, b)\n",
        "print (\"What's in c with eager execution? - \", c)"
      ],
      "execution_count": 3,
      "outputs": [
        {
          "output_type": "stream",
          "text": [
            "What's in c with eager execution? -  tf.Tensor([4 6], shape=(2,), dtype=int32)\n"
          ],
          "name": "stdout"
        }
      ]
    },
    {
      "metadata": {
        "id": "D3iHSyKApVWN",
        "colab_type": "text"
      },
      "cell_type": "markdown",
      "source": [
        ""
      ]
    }
  ]
}