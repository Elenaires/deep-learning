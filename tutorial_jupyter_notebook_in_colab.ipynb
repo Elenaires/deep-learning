{
  "nbformat": 4,
  "nbformat_minor": 0,
  "metadata": {
    "colab": {
      "name": "tutorial - jupyter notebook in colab.ipynb",
      "version": "0.3.2",
      "provenance": [],
      "private_outputs": true,
      "collapsed_sections": [],
      "include_colab_link": true
    },
    "kernelspec": {
      "name": "python3",
      "display_name": "Python 3"
    }
  },
  "cells": [
    {
      "cell_type": "markdown",
      "metadata": {
        "id": "view-in-github",
        "colab_type": "text"
      },
      "source": [
        "[View in Colaboratory](https://colab.research.google.com/github/margaretmz/deep-learning/blob/master/tutorial_jupyter_notebook_in_colab.ipynb)"
      ]
    },
    {
      "metadata": {
        "id": "oBppjOylYAT-",
        "colab_type": "text"
      },
      "cell_type": "markdown",
      "source": [
        "# Tutorial - Jupyter Notebook in Colab\n",
        "**by Margaret Maynard-Reid, 7/10/2018**\n",
        "\n",
        "This tutorial helps you to learn the basics of Jupyter Notebook when using Google Colab. \n",
        "\n",
        "\n",
        "There are two types of cells in a Jupyter Notebook:\n",
        "1. code cell for executing code \n",
        "2. text cell that supports markdown"
      ]
    },
    {
      "metadata": {
        "id": "Ott5mPWpn4s1",
        "colab_type": "toc"
      },
      "cell_type": "markdown",
      "source": [
        ">[Tutorial - Jupyter Notebook in Colab](#scrollTo=oBppjOylYAT-)\n",
        "\n",
        ">>[Pip install from notebook](#scrollTo=xmzr8V6plhPO)\n",
        "\n",
        ">>[Code cell](#scrollTo=s0GLUn5Mgg2v)\n",
        "\n",
        ">>>[Run cell](#scrollTo=46A5JLC-ZsG0)\n",
        "\n",
        ">>>[Run before](#scrollTo=KM4YksCKf9Df)\n",
        "\n",
        ">>>[See the documentation of a function](#scrollTo=4Z6zhIrLdJjN)\n",
        "\n",
        ">>[File upload & download](#scrollTo=s6fHTwiboVgD)\n",
        "\n",
        ">>[Text cell - Markdown](#scrollTo=TqVonC4EclW1)\n",
        "\n",
        ">>[How to create headers](#scrollTo=sm1IvwZUb2E0)\n",
        "\n",
        ">[Header 1](#scrollTo=sm1IvwZUb2E0)\n",
        "\n",
        ">>[Header 2](#scrollTo=sm1IvwZUb2E0)\n",
        "\n",
        ">>>[Header 3](#scrollTo=sm1IvwZUb2E0)\n",
        "\n",
        ">>[How to create a list](#scrollTo=7Uh_fnp0a7U9)\n",
        "\n",
        ">>>[Ordered list](#scrollTo=7Uh_fnp0a7U9)\n",
        "\n",
        ">>>[Unordered list](#scrollTo=7Uh_fnp0a7U9)\n",
        "\n",
        ">>>[See the available kernels on system](#scrollTo=nqhEUY72lIRg)\n",
        "\n",
        ">>[Helpful Info](#scrollTo=cYnIhKGDeoZv)\n",
        "\n"
      ]
    },
    {
      "metadata": {
        "id": "xmzr8V6plhPO",
        "colab_type": "text"
      },
      "cell_type": "markdown",
      "source": [
        "## Pip install from notebook"
      ]
    },
    {
      "metadata": {
        "id": "4fqyXB6QhPxW",
        "colab_type": "text"
      },
      "cell_type": "markdown",
      "source": [
        "To install a package from within a Jupyter Notebook, use \"\"!pip install [package-name]\". See example below:"
      ]
    },
    {
      "metadata": {
        "id": "oEL8QgDzZqrN",
        "colab_type": "code",
        "colab": {}
      },
      "cell_type": "code",
      "source": [
        "# install latest version of tensorflow\n",
        "!pip install -U tensorflow\n",
        "\n",
        "# uninstall tensorflow\n",
        "!pip uninstall tensorflow -y\n",
        "\n",
        "# Colab only: reset runtime. This is useful if you want to clean up the installation and downloaded files etc.\n",
        "!kill -9 -1, \n",
        "# refresh my browser \n",
        "# reconnect "
      ],
      "execution_count": 0,
      "outputs": []
    },
    {
      "metadata": {
        "id": "s0GLUn5Mgg2v",
        "colab_type": "text"
      },
      "cell_type": "markdown",
      "source": [
        "## Code cell"
      ]
    },
    {
      "metadata": {
        "id": "46A5JLC-ZsG0",
        "colab_type": "text"
      },
      "cell_type": "markdown",
      "source": [
        "### Run cell\n",
        "Select the cell below and press **Shift+Enter **to run the cell"
      ]
    },
    {
      "metadata": {
        "id": "n_m_FlF6XFUf",
        "colab_type": "code",
        "colab": {}
      },
      "cell_type": "code",
      "source": [
        "print(\"Hello World\")"
      ],
      "execution_count": 0,
      "outputs": []
    },
    {
      "metadata": {
        "id": "KM4YksCKf9Df",
        "colab_type": "text"
      },
      "cell_type": "markdown",
      "source": [
        "### Run before\n",
        "In Colab, select \"Runtime > Run before\" will run all the cells before this cell."
      ]
    },
    {
      "metadata": {
        "id": "EHd5rkb00jdT",
        "colab_type": "code",
        "colab": {}
      },
      "cell_type": "code",
      "source": [
        "# Use %%time to see how long it takes to run about a single run of the code in your cell.\n",
        "%%time\n",
        "print(\"Hello World\")"
      ],
      "execution_count": 0,
      "outputs": []
    },
    {
      "metadata": {
        "id": "4Z6zhIrLdJjN",
        "colab_type": "text"
      },
      "cell_type": "markdown",
      "source": [
        "### See the documentation of a function\n",
        "* Full dcoumentation - prepend a library, method or variable with a question mark **?**\n",
        "* To see inline help of function signature and docstring press **Shift+Tab**.  In Colab, press ** Tab** after after an open parenthesis)"
      ]
    },
    {
      "metadata": {
        "id": "N2ChLmudZ4zZ",
        "colab_type": "code",
        "colab": {}
      },
      "cell_type": "code",
      "source": [
        "# Prepend a tensorflow module\n",
        "from tensorflow import keras\n",
        "?keras"
      ],
      "execution_count": 0,
      "outputs": []
    },
    {
      "metadata": {
        "id": "One4xv_TgI0n",
        "colab_type": "code",
        "colab": {}
      },
      "cell_type": "code",
      "source": [
        "# prepend a function\n",
        "?print"
      ],
      "execution_count": 0,
      "outputs": []
    },
    {
      "metadata": {
        "id": "s6fHTwiboVgD",
        "colab_type": "text"
      },
      "cell_type": "markdown",
      "source": [
        "## File upload & download\n",
        "\n",
        "For upload and download small file(s)\n",
        "\n"
      ]
    },
    {
      "metadata": {
        "id": "ZvvBAAfIojhU",
        "colab_type": "code",
        "colab": {}
      },
      "cell_type": "code",
      "source": [
        "from google.colab import files\n",
        "# upload a file - execute the cell then quickly click on \"Choose Files\" button to select a file for uploading\n",
        "uploaded = files.upload()\n",
        "\n"
      ],
      "execution_count": 0,
      "outputs": []
    },
    {
      "metadata": {
        "id": "pSqRDiViqpos",
        "colab_type": "code",
        "colab": {}
      },
      "cell_type": "code",
      "source": [
        "from google.colab import files\n",
        "# download a file\n",
        "files.download('mymodel.pb')"
      ],
      "execution_count": 0,
      "outputs": []
    },
    {
      "metadata": {
        "id": "TqVonC4EclW1",
        "colab_type": "text"
      },
      "cell_type": "markdown",
      "source": [
        "## Text cell - Markdown\n",
        "\n",
        "Jupyter Note book supports markdown and make sure you create a text cell for it. \n",
        "\n",
        "See below examples. If you are in Colab you can just use the GUI instead of remembering the markdown syntax."
      ]
    },
    {
      "metadata": {
        "id": "sm1IvwZUb2E0",
        "colab_type": "text"
      },
      "cell_type": "markdown",
      "source": [
        "## How to create headers\n",
        "\n",
        "# Header 1\n",
        "## Header 2\n",
        "### Header 3"
      ]
    },
    {
      "metadata": {
        "id": "7Uh_fnp0a7U9",
        "colab_type": "text"
      },
      "cell_type": "markdown",
      "source": [
        "## How to create a list\n",
        "\n",
        "### Ordered list\n",
        "\n",
        "1. item 1\n",
        "2. item 2\n",
        "\n",
        "### Unordered list\n",
        "\n",
        "Create a list with *, - or +\n",
        "* item 1\n",
        "* item 2"
      ]
    },
    {
      "metadata": {
        "id": "nqhEUY72lIRg",
        "colab_type": "text"
      },
      "cell_type": "markdown",
      "source": [
        "### See the available kernels on system"
      ]
    },
    {
      "metadata": {
        "id": "0W-Quz6lkrPw",
        "colab_type": "code",
        "colab": {}
      },
      "cell_type": "code",
      "source": [
        "!jupyter kernelspec list"
      ],
      "execution_count": 0,
      "outputs": []
    },
    {
      "metadata": {
        "id": "cYnIhKGDeoZv",
        "colab_type": "text"
      },
      "cell_type": "markdown",
      "source": [
        "## Helpful Info\n",
        "\n",
        "\n",
        "In Codelab, **Cmd+Shift+P **to launch command pallete where you can search commands\n",
        "\n",
        "**Links:**\n",
        "* Notebook basics - [link](http://jupyter-notebook.readthedocs.io/en/stable/examples/Notebook/Notebook%20Basics.html)\n",
        "* Tips on markdown - [markdown cheatsheat](https://github.com/adam-p/markdown-here/wiki/Markdown-Cheatsheet) for tips on markdown.\n",
        "* [Jupyter Notebook Cheat Sheet](https://www.datacamp.com/community/blog/jupyter-notebook-cheat-sheet) \n",
        "* [Jupyter Notebook Keyboard Shortcuts](https://www.cheatography.com/weidadeyue/cheat-sheets/jupyter-notebook/)\n",
        "* More tips and tricks - [28 Jupyter Notebook tips, tricks, and shortcuts](https://www.dataquest.io/blog/jupyter-notebook-tips-tricks-shortcuts/)\n"
      ]
    },
    {
      "metadata": {
        "id": "st20YEUi7evc",
        "colab_type": "code",
        "colab": {}
      },
      "cell_type": "code",
      "source": [
        ""
      ],
      "execution_count": 0,
      "outputs": []
    }
  ]
}