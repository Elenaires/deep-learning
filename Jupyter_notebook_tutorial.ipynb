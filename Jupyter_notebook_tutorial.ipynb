{
  "nbformat": 4,
  "nbformat_minor": 0,
  "metadata": {
    "colab": {
      "name": "Jupyter notebook tutorial.ipynb",
      "version": "0.3.2",
      "provenance": [],
      "private_outputs": true,
      "include_colab_link": true
    },
    "kernelspec": {
      "name": "python3",
      "display_name": "Python 3"
    }
  },
  "cells": [
    {
      "cell_type": "markdown",
      "metadata": {
        "id": "view-in-github",
        "colab_type": "text"
      },
      "source": [
        "[View in Colaboratory](https://colab.research.google.com/github/margaretmz/deep-learning/blob/master/Jupyter_notebook_tutorial.ipynb)"
      ]
    },
    {
      "metadata": {
        "id": "oBppjOylYAT-",
        "colab_type": "text"
      },
      "cell_type": "markdown",
      "source": [
        "# Jupyter notebook tutorial\n",
        "### by Margaret Maynard-Reid, 7/10/2018\n",
        "\n",
        "This tutorial helps you to learn the basics of Jupyter Notebook. Note some of the tips below are applicable only when using Colab.\n",
        "\n",
        "There are two types of cells in a Jupyter Notebook:\n",
        "1. code cell for executing code \n",
        "2. text cell that supports markdown."
      ]
    },
    {
      "metadata": {
        "id": "xmzr8V6plhPO",
        "colab_type": "text"
      },
      "cell_type": "markdown",
      "source": [
        "## Pip install from notebook"
      ]
    },
    {
      "metadata": {
        "id": "4fqyXB6QhPxW",
        "colab_type": "text"
      },
      "cell_type": "markdown",
      "source": [
        "To install a package from within a Jupyter Notebook, use \"\"!pip install [package-name]\". See example below:"
      ]
    },
    {
      "metadata": {
        "id": "oEL8QgDzZqrN",
        "colab_type": "code",
        "colab": {}
      },
      "cell_type": "code",
      "source": [
        "# install latest version of tensorflow\n",
        "!pip install -U tensorflow"
      ],
      "execution_count": 0,
      "outputs": []
    },
    {
      "metadata": {
        "id": "s0GLUn5Mgg2v",
        "colab_type": "text"
      },
      "cell_type": "markdown",
      "source": [
        "## Code cell"
      ]
    },
    {
      "metadata": {
        "id": "46A5JLC-ZsG0",
        "colab_type": "text"
      },
      "cell_type": "markdown",
      "source": [
        "### Run cell\n",
        "Select the cell below and press **Shift+Enter **to run the cell"
      ]
    },
    {
      "metadata": {
        "id": "n_m_FlF6XFUf",
        "colab_type": "code",
        "colab": {}
      },
      "cell_type": "code",
      "source": [
        "print(\"Hello World\")"
      ],
      "execution_count": 0,
      "outputs": []
    },
    {
      "metadata": {
        "id": "KM4YksCKf9Df",
        "colab_type": "text"
      },
      "cell_type": "markdown",
      "source": [
        "### Run before\n",
        "In Colab, select \"Runtime > Run before\" will run all the cells before this cell."
      ]
    },
    {
      "metadata": {
        "id": "EHd5rkb00jdT",
        "colab_type": "code",
        "colab": {}
      },
      "cell_type": "code",
      "source": [
        "# Use %%time to see how long it takes to run about a single run of the code in your cell.\n",
        "%%time\n",
        "print(\"Hello World\")"
      ],
      "execution_count": 0,
      "outputs": []
    },
    {
      "metadata": {
        "id": "4Z6zhIrLdJjN",
        "colab_type": "text"
      },
      "cell_type": "markdown",
      "source": [
        "### See the documentation of a function\n",
        "* Full dcoumentation - prepend a library, method or variable with **?**\n",
        "* See inline help of function signature and docstring - **Shift+Tab**.  In Colab, press ** Tab** after after an open parenthesis)"
      ]
    },
    {
      "metadata": {
        "id": "N2ChLmudZ4zZ",
        "colab_type": "code",
        "colab": {}
      },
      "cell_type": "code",
      "source": [
        "# Prepend a tensorflow module\n",
        "from tensorflow import keras\n",
        "?keras"
      ],
      "execution_count": 0,
      "outputs": []
    },
    {
      "metadata": {
        "id": "One4xv_TgI0n",
        "colab_type": "code",
        "colab": {}
      },
      "cell_type": "code",
      "source": [
        "# prepend a function\n",
        "?print"
      ],
      "execution_count": 0,
      "outputs": []
    },
    {
      "metadata": {
        "id": "TqVonC4EclW1",
        "colab_type": "text"
      },
      "cell_type": "markdown",
      "source": [
        "## Text cell - Markdown\n",
        "\n",
        "Jupyter Note book supports markdown and make sure you create a text cell for it. \n",
        "\n",
        "Here are some examples:"
      ]
    },
    {
      "metadata": {
        "id": "sm1IvwZUb2E0",
        "colab_type": "text"
      },
      "cell_type": "markdown",
      "source": [
        "## How to create headers\n",
        "\n",
        "# H1\n",
        "## H2\n",
        "### H3"
      ]
    },
    {
      "metadata": {
        "id": "7Uh_fnp0a7U9",
        "colab_type": "text"
      },
      "cell_type": "markdown",
      "source": [
        "## How to create a list\n",
        "\n",
        "### Ordered list\n",
        "\n",
        "1. item 1\n",
        "2. item 2\n",
        "\n",
        "### Unordered list\n",
        "\n",
        "Create a list with *, - or +\n",
        "* item 1\n",
        "* item 2"
      ]
    },
    {
      "metadata": {
        "id": "nqhEUY72lIRg",
        "colab_type": "text"
      },
      "cell_type": "markdown",
      "source": [
        "### See the available kernels on system"
      ]
    },
    {
      "metadata": {
        "id": "0W-Quz6lkrPw",
        "colab_type": "code",
        "colab": {}
      },
      "cell_type": "code",
      "source": [
        "!jupyter kernelspec list"
      ],
      "execution_count": 0,
      "outputs": []
    },
    {
      "metadata": {
        "id": "cYnIhKGDeoZv",
        "colab_type": "text"
      },
      "cell_type": "markdown",
      "source": [
        "## Helpful Info\n",
        "\n",
        "\n",
        "In Codelab, **Cmd+Shift+P **to launch command pallete where you can search commands\n",
        "\n",
        "**Links:**\n",
        "* Notebook basics - [link](http://jupyter-notebook.readthedocs.io/en/stable/examples/Notebook/Notebook%20Basics.html)\n",
        "* Tips on markdown - [markdown cheatsheat](https://github.com/adam-p/markdown-here/wiki/Markdown-Cheatsheet) for tips on markdown.\n",
        "* [Jupyter Notebook Cheat Sheet](https://www.datacamp.com/community/blog/jupyter-notebook-cheat-sheet) \n",
        "* [Jupyter Notebook Keyboard Shortcuts](https://www.cheatography.com/weidadeyue/cheat-sheets/jupyter-notebook/)\n",
        "* More tips and tricks - [28 Jupyter Notebook tips, tricks, and shortcuts](https://www.dataquest.io/blog/jupyter-notebook-tips-tricks-shortcuts/)\n"
      ]
    },
    {
      "metadata": {
        "id": "st20YEUi7evc",
        "colab_type": "code",
        "colab": {}
      },
      "cell_type": "code",
      "source": [
        ""
      ],
      "execution_count": 0,
      "outputs": []
    }
  ]
}